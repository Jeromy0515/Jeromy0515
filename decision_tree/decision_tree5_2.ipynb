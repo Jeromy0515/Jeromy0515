{
  "nbformat": 4,
  "nbformat_minor": 0,
  "metadata": {
    "colab": {
      "name": "decision_tree5_2.ipynb",
      "provenance": [],
      "collapsed_sections": [],
      "mount_file_id": "1uGvRUMTRPklIdPolhvWIZ_4QVPVbgkSg",
      "authorship_tag": "ABX9TyP8sPYROt9/KQctx2bIdxbe",
      "include_colab_link": true
    },
    "kernelspec": {
      "name": "python3",
      "display_name": "Python 3"
    },
    "language_info": {
      "name": "python"
    }
  },
  "cells": [
    {
      "cell_type": "markdown",
      "metadata": {
        "id": "view-in-github",
        "colab_type": "text"
      },
      "source": [
        "<a href=\"https://colab.research.google.com/github/Jeromy0515/Jeromy0515/blob/main/decision_tree/decision_tree5_2.ipynb\" target=\"_parent\"><img src=\"https://colab.research.google.com/assets/colab-badge.svg\" alt=\"Open In Colab\"/></a>"
      ]
    },
    {
      "cell_type": "markdown",
      "source": [
        "# 시작하기 전에\n",
        "1. `max_depth`를 3 말고 다른 값으로 하면 성능은?\n",
        "2. 지금까지 훈련 세트에서 모델을 훈련 -> 테스트 세트에서 모델 평가\n",
        "3. 테스트 세트 점수를 보고, 이 모델을 실전 투했을 때의 성능을 기대 -> 일반화 성능 가늠\n",
        "4. 테스트 세트를 사용해 성능을 확인하다 보면 점점 테스트 세트에 맞추게 되는셈\n"
      ],
      "metadata": {
        "id": "XP3rAUyY9rci"
      }
    },
    {
      "cell_type": "markdown",
      "source": [
        "# 검증 세트\n",
        "- 테스트 세트는 모델을 만들고 나서 마지막에 딱 한 번만 사용\n",
        "- 테스트 세트를 사용하지 않으면 모델이 과대적합인지 과소적합인지 판단할 수 없음\n",
        "- 테스트 세트를 사용하지 않고 이를 측정: 훈련 세트를 또 나눔 -> 검증세트(validation set)"
      ],
      "metadata": {
        "id": "1Wgpr1NH9-QC"
      }
    },
    {
      "cell_type": "code",
      "execution_count": 1,
      "metadata": {
        "colab": {
          "base_uri": "https://localhost:8080/",
          "height": 206
        },
        "id": "fEY0xByu8koW",
        "outputId": "d4b52c2a-87f0-47a3-d791-da1962d4e999"
      },
      "outputs": [
        {
          "output_type": "execute_result",
          "data": {
            "text/plain": [
              "   alcohol  sugar    pH  class\n",
              "0      9.4    1.9  3.51    0.0\n",
              "1      9.8    2.6  3.20    0.0\n",
              "2      9.8    2.3  3.26    0.0\n",
              "3      9.8    1.9  3.16    0.0\n",
              "4      9.4    1.9  3.51    0.0"
            ],
            "text/html": [
              "\n",
              "  <div id=\"df-31170aee-fbc0-40c5-8c67-e23253e16f58\">\n",
              "    <div class=\"colab-df-container\">\n",
              "      <div>\n",
              "<style scoped>\n",
              "    .dataframe tbody tr th:only-of-type {\n",
              "        vertical-align: middle;\n",
              "    }\n",
              "\n",
              "    .dataframe tbody tr th {\n",
              "        vertical-align: top;\n",
              "    }\n",
              "\n",
              "    .dataframe thead th {\n",
              "        text-align: right;\n",
              "    }\n",
              "</style>\n",
              "<table border=\"1\" class=\"dataframe\">\n",
              "  <thead>\n",
              "    <tr style=\"text-align: right;\">\n",
              "      <th></th>\n",
              "      <th>alcohol</th>\n",
              "      <th>sugar</th>\n",
              "      <th>pH</th>\n",
              "      <th>class</th>\n",
              "    </tr>\n",
              "  </thead>\n",
              "  <tbody>\n",
              "    <tr>\n",
              "      <th>0</th>\n",
              "      <td>9.4</td>\n",
              "      <td>1.9</td>\n",
              "      <td>3.51</td>\n",
              "      <td>0.0</td>\n",
              "    </tr>\n",
              "    <tr>\n",
              "      <th>1</th>\n",
              "      <td>9.8</td>\n",
              "      <td>2.6</td>\n",
              "      <td>3.20</td>\n",
              "      <td>0.0</td>\n",
              "    </tr>\n",
              "    <tr>\n",
              "      <th>2</th>\n",
              "      <td>9.8</td>\n",
              "      <td>2.3</td>\n",
              "      <td>3.26</td>\n",
              "      <td>0.0</td>\n",
              "    </tr>\n",
              "    <tr>\n",
              "      <th>3</th>\n",
              "      <td>9.8</td>\n",
              "      <td>1.9</td>\n",
              "      <td>3.16</td>\n",
              "      <td>0.0</td>\n",
              "    </tr>\n",
              "    <tr>\n",
              "      <th>4</th>\n",
              "      <td>9.4</td>\n",
              "      <td>1.9</td>\n",
              "      <td>3.51</td>\n",
              "      <td>0.0</td>\n",
              "    </tr>\n",
              "  </tbody>\n",
              "</table>\n",
              "</div>\n",
              "      <button class=\"colab-df-convert\" onclick=\"convertToInteractive('df-31170aee-fbc0-40c5-8c67-e23253e16f58')\"\n",
              "              title=\"Convert this dataframe to an interactive table.\"\n",
              "              style=\"display:none;\">\n",
              "        \n",
              "  <svg xmlns=\"http://www.w3.org/2000/svg\" height=\"24px\"viewBox=\"0 0 24 24\"\n",
              "       width=\"24px\">\n",
              "    <path d=\"M0 0h24v24H0V0z\" fill=\"none\"/>\n",
              "    <path d=\"M18.56 5.44l.94 2.06.94-2.06 2.06-.94-2.06-.94-.94-2.06-.94 2.06-2.06.94zm-11 1L8.5 8.5l.94-2.06 2.06-.94-2.06-.94L8.5 2.5l-.94 2.06-2.06.94zm10 10l.94 2.06.94-2.06 2.06-.94-2.06-.94-.94-2.06-.94 2.06-2.06.94z\"/><path d=\"M17.41 7.96l-1.37-1.37c-.4-.4-.92-.59-1.43-.59-.52 0-1.04.2-1.43.59L10.3 9.45l-7.72 7.72c-.78.78-.78 2.05 0 2.83L4 21.41c.39.39.9.59 1.41.59.51 0 1.02-.2 1.41-.59l7.78-7.78 2.81-2.81c.8-.78.8-2.07 0-2.86zM5.41 20L4 18.59l7.72-7.72 1.47 1.35L5.41 20z\"/>\n",
              "  </svg>\n",
              "      </button>\n",
              "      \n",
              "  <style>\n",
              "    .colab-df-container {\n",
              "      display:flex;\n",
              "      flex-wrap:wrap;\n",
              "      gap: 12px;\n",
              "    }\n",
              "\n",
              "    .colab-df-convert {\n",
              "      background-color: #E8F0FE;\n",
              "      border: none;\n",
              "      border-radius: 50%;\n",
              "      cursor: pointer;\n",
              "      display: none;\n",
              "      fill: #1967D2;\n",
              "      height: 32px;\n",
              "      padding: 0 0 0 0;\n",
              "      width: 32px;\n",
              "    }\n",
              "\n",
              "    .colab-df-convert:hover {\n",
              "      background-color: #E2EBFA;\n",
              "      box-shadow: 0px 1px 2px rgba(60, 64, 67, 0.3), 0px 1px 3px 1px rgba(60, 64, 67, 0.15);\n",
              "      fill: #174EA6;\n",
              "    }\n",
              "\n",
              "    [theme=dark] .colab-df-convert {\n",
              "      background-color: #3B4455;\n",
              "      fill: #D2E3FC;\n",
              "    }\n",
              "\n",
              "    [theme=dark] .colab-df-convert:hover {\n",
              "      background-color: #434B5C;\n",
              "      box-shadow: 0px 1px 3px 1px rgba(0, 0, 0, 0.15);\n",
              "      filter: drop-shadow(0px 1px 2px rgba(0, 0, 0, 0.3));\n",
              "      fill: #FFFFFF;\n",
              "    }\n",
              "  </style>\n",
              "\n",
              "      <script>\n",
              "        const buttonEl =\n",
              "          document.querySelector('#df-31170aee-fbc0-40c5-8c67-e23253e16f58 button.colab-df-convert');\n",
              "        buttonEl.style.display =\n",
              "          google.colab.kernel.accessAllowed ? 'block' : 'none';\n",
              "\n",
              "        async function convertToInteractive(key) {\n",
              "          const element = document.querySelector('#df-31170aee-fbc0-40c5-8c67-e23253e16f58');\n",
              "          const dataTable =\n",
              "            await google.colab.kernel.invokeFunction('convertToInteractive',\n",
              "                                                     [key], {});\n",
              "          if (!dataTable) return;\n",
              "\n",
              "          const docLinkHtml = 'Like what you see? Visit the ' +\n",
              "            '<a target=\"_blank\" href=https://colab.research.google.com/notebooks/data_table.ipynb>data table notebook</a>'\n",
              "            + ' to learn more about interactive tables.';\n",
              "          element.innerHTML = '';\n",
              "          dataTable['output_type'] = 'display_data';\n",
              "          await google.colab.output.renderOutput(dataTable, element);\n",
              "          const docLink = document.createElement('div');\n",
              "          docLink.innerHTML = docLinkHtml;\n",
              "          element.appendChild(docLink);\n",
              "        }\n",
              "      </script>\n",
              "    </div>\n",
              "  </div>\n",
              "  "
            ]
          },
          "metadata": {},
          "execution_count": 1
        }
      ],
      "source": [
        "# 데이터 로드\n",
        "import pandas as pd\n",
        "wine = pd.read_csv('/content/drive/MyDrive/Data/wine.csv')\n",
        "wine.head()"
      ]
    },
    {
      "cell_type": "code",
      "source": [
        "# class 열을 타겟으로 사용\n",
        "# 나머지 열은 특성 배열에 저장\n",
        "data = wine[['alcohol', 'sugar', 'pH']].to_numpy()\n",
        "target = wine['class'].to_numpy()"
      ],
      "metadata": {
        "id": "6x-oQFHk9BNk"
      },
      "execution_count": 2,
      "outputs": []
    },
    {
      "cell_type": "code",
      "source": [
        "# 훈련 세트와 테스트 세트 나누기 8:2\n",
        "from sklearn.model_selection import train_test_split\n",
        "train_input, test_input, train_target, test_target = train_test_split(data, target, test_size=0.2, random_state=42)"
      ],
      "metadata": {
        "id": "a67c8iHW-YTy"
      },
      "execution_count": 3,
      "outputs": []
    },
    {
      "cell_type": "code",
      "source": [
        "# 검증 세트 생성\n",
        "# train_input과 train_target을 다시 train_test_split()\n",
        "# 훈련 세트 sub_input, sub_target\n",
        "# 검증 세트 val_input, val_target\n",
        "# train_input의 약 20%를 val_input\n",
        "sub_input, val_input, sub_target, val_target = train_test_split(train_input, train_target, test_size=0.2, random_state=42)\n",
        "print(sub_input.shape, val_input.shape)\n",
        "# 원래 5,197개였던 훈련 세트가 4,157개로 줄었음 \n",
        "# 검증 세ㅐ트는 1,040개"
      ],
      "metadata": {
        "colab": {
          "base_uri": "https://localhost:8080/"
        },
        "id": "19qkT1up-kGE",
        "outputId": "c4c41a90-0948-4ac7-ceca-a7478670d09e"
      },
      "execution_count": 4,
      "outputs": [
        {
          "output_type": "stream",
          "name": "stdout",
          "text": [
            "(4157, 3) (1040, 3)\n"
          ]
        }
      ]
    },
    {
      "cell_type": "code",
      "source": [
        "# sub_input, sub_target과 val_input, val_target을 사용해 모델 생성 및 평가\n",
        "from sklearn.tree import DecisionTreeClassifier\n",
        "\n",
        "dt = DecisionTreeClassifier(random_state=42)\n",
        "dt.fit(sub_input, sub_target)\n",
        "\n",
        "print(dt.score(sub_input, sub_target))\n",
        "print(dt.score(val_input, val_target))\n",
        "# 과대적합!\n",
        "# 매개변수를 바꿔서 더 좋은 모델을 찾아야함"
      ],
      "metadata": {
        "colab": {
          "base_uri": "https://localhost:8080/"
        },
        "id": "6-Oyz5LLAFS9",
        "outputId": "b9e2534c-81dd-429d-f30e-5e3968715c1b"
      },
      "execution_count": 5,
      "outputs": [
        {
          "output_type": "stream",
          "name": "stdout",
          "text": [
            "0.9971133028626413\n",
            "0.864423076923077\n"
          ]
        }
      ]
    },
    {
      "cell_type": "markdown",
      "source": [
        "# 교차 검증\n",
        "- 검증 세트를 만드느라 훈련 세트가 줄었음\n",
        "- 많은 데이터를 훈련에 사용할수록 좋은 모델 생성 가능\n",
        "- 검증 세트를 너무 조금 떼어 놓으면 검증 점수가 들쭉날쭉 불안정\n",
        "- 교차 검증(cross validation) 사용\n",
        "  - 안정적인 검증 점수를 얻고 훈련에 더 많은 데이터 사용 가능\n",
        "  - 검증 세트를 떼어 내어 평가하는 과정을 여러 번 반복\n",
        "  - 그 다음 이 점수를 평균하여 최종 검증 점수를 얻음"
      ],
      "metadata": {
        "id": "hTiECvUsBYeh"
      }
    },
    {
      "cell_type": "markdown",
      "source": [
        "# k-폴드 교차 검증(k-fold cross validation)\n",
        "- k-폴드 교차 검증(k-fold cross validation)\n",
        "  - 훈련 세트를 몇 부분으로 나누냐에 따라 다르게 부름\n",
        "  - 보통 5-폴드, 10-폴드 교차 검증을 많이 사용함\n",
        "  - 데이터의 8~90% 까지 훈련에 사용: 안정된 점수\n"
      ],
      "metadata": {
        "id": "8orvD7UfBrt6"
      }
    },
    {
      "cell_type": "markdown",
      "source": [
        "# cross_validate()\n",
        "- 사이킷런에서는 cross_validate()라는 교차 검증 함수 제공\n",
        "- 수작업으로 직접 검증 세트를 떼어내지 않고 훈련 세트 전체를 전달\n",
        "- 기본적으로 5-폴드 교차 검증 수행\n",
        "- `cv` 매개변수에서 폴드 수 변경 가능\n",
        "- `fit_time`: 각각 모델을 훈련하는 시간, 각 키마다 5개의 숫자\n",
        "- `score_time`: 각각 모델을 검증하는 시간, 각 키마다 5개의 숫자\n",
        "- `test_score`: 각 폴드에서 계산한 검증 점수\n",
        "- 교차 검증의 최종 점수: test_score 키에 담긴 5개의 점수를 평균"
      ],
      "metadata": {
        "id": "BEkx6mStB5XA"
      }
    },
    {
      "cell_type": "code",
      "source": [
        "from sklearn.model_selection import cross_validate\n",
        "scores = cross_validate(dt, train_input, train_target)\n",
        "print(scores)\n",
        "# fit_time: 각각 모델을 훈련하는 시간, 각 키마다 5개의 숫자\n",
        "# score_time: 각각 모델을 검증하는 시간, 각 키마다 5개의 숫자\n",
        "# test_score: 각 폴드에서 계산한 검증 점수"
      ],
      "metadata": {
        "colab": {
          "base_uri": "https://localhost:8080/"
        },
        "id": "h4-4NAZeBOCj",
        "outputId": "625144ba-9081-43dd-854c-cbac1edd0230"
      },
      "execution_count": 6,
      "outputs": [
        {
          "output_type": "stream",
          "name": "stdout",
          "text": [
            "{'fit_time': array([0.01738834, 0.00717902, 0.01134777, 0.00943303, 0.00722313]), 'score_time': array([0.00084734, 0.00075054, 0.00122499, 0.00086498, 0.0008471 ]), 'test_score': array([0.86923077, 0.84615385, 0.87680462, 0.84889317, 0.83541867])}\n"
          ]
        }
      ]
    },
    {
      "cell_type": "code",
      "source": [
        "# 교차 검증의 최종 점수: test_score 키에 담긴 5개의 점수 평균 출력\n",
        "import numpy as np\n",
        "print(np.mean(scores['test_score']))\n",
        "# train+test_split() 함수로 전체 데이터를 섞은 후 훈련 세트를 준비했기 때문에 -> 따로 폴드를 섞을 필요는 없음"
      ],
      "metadata": {
        "id": "X62u1B3LCY92",
        "colab": {
          "base_uri": "https://localhost:8080/"
        },
        "outputId": "57728635-2d81-4ef7-8425-ded491ac200b"
      },
      "execution_count": 7,
      "outputs": [
        {
          "output_type": "stream",
          "name": "stdout",
          "text": [
            "0.855300214703487\n"
          ]
        }
      ]
    },
    {
      "cell_type": "code",
      "source": [
        "# 회귀 모델: KFold 분할기 사용\n",
        "# 분류 모델: StratifiedKFold 사용( 타깃 클래스를 골고루 나누기 위해 )\n",
        "from sklearn.model_selection import StratifiedKFold\n",
        "scores = cross_validate(dt, train_input, train_target, cv=StratifiedKFold())\n",
        "print(np.mean(scores['test_score']))"
      ],
      "metadata": {
        "colab": {
          "base_uri": "https://localhost:8080/"
        },
        "id": "ol1-nrSfnpun",
        "outputId": "b608f503-abde-485c-959c-3fc5951379f2"
      },
      "execution_count": 9,
      "outputs": [
        {
          "output_type": "stream",
          "name": "stdout",
          "text": [
            "0.855300214703487\n"
          ]
        }
      ]
    },
    {
      "cell_type": "code",
      "source": [
        "# 미리 수작업으로 폴드를 나누지 않아도 결과는 동일!\n",
        "# n_splits 매개변수: 몇(k) 폴드 교차 검증할지 결정\n",
        "splitter = StratifiedKFold(n_splits=10, shuffle=True, random_state=42)\n",
        "scores = cross_validate(dt, train_input, train_target, cv=splitter)\n",
        "print(np.mean(scores['test_score']))"
      ],
      "metadata": {
        "colab": {
          "base_uri": "https://localhost:8080/"
        },
        "id": "_kQsQxK8oTUx",
        "outputId": "b9315fc3-ae8a-494c-9a4e-29e0522a780a"
      },
      "execution_count": 10,
      "outputs": [
        {
          "output_type": "stream",
          "name": "stdout",
          "text": [
            "0.8574181117533719\n"
          ]
        }
      ]
    },
    {
      "cell_type": "markdown",
      "source": [
        "# 하이퍼파라미터 튜닝\n",
        "- 결정 트리의 매개변수 값을 바꿔가며 가장 좋은 성능이 나오는 모델을 찾자\n",
        "- 테스트 세트가 아닌 교차 검증을 통해서 좋은 모델 찾기\n",
        "- 모델 파라미터: 머신러닝 모델이 학습하는 파라미터\n",
        "- 하이퍼파라미터: 모델이 학습할 수 없어서 사용자가 지정하는 파라미터\n",
        "- 하이퍼파라미터를 튜닝하는 작업?\n",
        "\n",
        "  1. 라이브러리가 제공하는 기본값 사용\n",
        "  2. 검증 세트 점ㅈ수나 교차 검증을 통해 매개변수 변경\n",
        "  3. 모델마다 1~6개의 매개변수 제공 -> 이를 다 바꿔가면서?\n",
        "  4. `max_depth` 최적값이 변경하면 min_sample_split도 바뀜 -> 다 찾아야됨\n",
        "\n",
        "#### <b>사이키런의 GridSearchCV 클래스를 통해 하이퍼파라미터 탐색과 교차 검증을 한 번에 수행할 수 있음</b>"
      ],
      "metadata": {
        "id": "hz3vQhbUo1G5"
      }
    },
    {
      "cell_type": "markdown",
      "source": [
        "# GridSearchCV\n",
        "- 하이퍼파라미터 탐색과 교차 검증을 한번에 수행\n",
        "- 별도로 cross_validate() 함수 호출 필요 없음\n",
        "- 기본 매개변수를 사용한 결정 트리 모델에서 `min_impurity_decrease` 매개변수의 최적값 찾기\n"
      ],
      "metadata": {
        "id": "dCsHvVi7prUZ"
      }
    },
    {
      "cell_type": "code",
      "source": [
        "# GridSearchCV 클래스 임포트\n",
        "from sklearn.model_selection import GridSearchCV\n",
        "# 탐색할 값의 리스트를 딕셔너리로 만듦(0.0001 ~ 0.0005: 0.001씩 증가)\n",
        "params = {'min_impurity_decrease': [0.0001, 0.0002, 0.0003, 0.004, 0.0005]}"
      ],
      "metadata": {
        "id": "X3MXEevAox-b"
      },
      "execution_count": 11,
      "outputs": []
    },
    {
      "cell_type": "code",
      "source": [
        "# 결정 트리 클래스를 생성하자마자 바로 GridSearchCV로 전달\n",
        "gs = GridSearchCV(DecisionTreeClassifier(random_state=42), params, n_jobs=-1)\n",
        "# fit() 메소드 호출: mean_impurity_decrease 값을 바꿔가며 총 5번 실행\n",
        "# GridSearchCV의 cv 매개변수 기본값은 5\n",
        "# min_impurity_decrese 값마다 5-폴드 교차 검증 수행: 5 x 5 = 25개의 모델 훈련\n",
        "# n_jobs 매개변수: 병렬 실행에 사용할 CPU 코어 수(-1: 모든 코어 사용)\n",
        "gs.fit(train_input, train_target)"
      ],
      "metadata": {
        "colab": {
          "base_uri": "https://localhost:8080/"
        },
        "id": "qoTh9YwhqVYV",
        "outputId": "4c53f31f-4f97-48bc-dc46-cbafa4d26944"
      },
      "execution_count": 12,
      "outputs": [
        {
          "output_type": "execute_result",
          "data": {
            "text/plain": [
              "GridSearchCV(estimator=DecisionTreeClassifier(random_state=42), n_jobs=-1,\n",
              "             param_grid={'min_impurity_decrease': [0.0001, 0.0002, 0.0003,\n",
              "                                                   0.004, 0.0005]})"
            ]
          },
          "metadata": {},
          "execution_count": 12
        }
      ]
    },
    {
      "cell_type": "markdown",
      "source": [
        "- 교차 검증에서는 최적의 하이퍼차라미터를 찾으면 -> 전체 훈련 세트로 모델을 다시 만들어야 했음\n",
        "- 그리드 서치는 훈련이 끄탄면 25개 모델 중에서 검증 점수가 가장 높은 모델의 매개변수 조합으로 자동으로 다시 모델을 훈련\n",
        "- 이 모델은 gs 객체의 `best_estimator_` 속성에 저장 -> 일반 결정 트리처럼 똑같이 사용"
      ],
      "metadata": {
        "id": "OCo4Duo7xjRp"
      }
    },
    {
      "cell_type": "code",
      "source": [
        "# 최적의 모델은 gs 객체의 best_estimator_ 속성에 저장 -> 일반 결정 트리처럼 똑같이 사용\n",
        "dt = gs.best_estimator_\n",
        "print(dt.score(train_input, train_target))"
      ],
      "metadata": {
        "colab": {
          "base_uri": "https://localhost:8080/"
        },
        "id": "lor9HMdXqfgI",
        "outputId": "57d10f9c-193b-4736-e8ee-83763636a04d"
      },
      "execution_count": 14,
      "outputs": [
        {
          "output_type": "stream",
          "name": "stdout",
          "text": [
            "0.9615162593804117\n"
          ]
        }
      ]
    },
    {
      "cell_type": "markdown",
      "source": [
        "- 교차 검증에서는 최적의 하이퍼파라미터를 찾으면 -> 전체 훈련 세트로 모델을 다시 만들어야 했음\n",
        "- 그리드 서치는 훈련이 끝나면 25개 모델 중에서 검증 점수가 가장 높은 모델의 배개변수 조합으로 자동으로 다시 모델을 훈련"
      ],
      "metadata": {
        "id": "XEa9xZMKyEA_"
      }
    },
    {
      "cell_type": "code",
      "source": [
        "# 최적의 매개변수는 best_params_ 속성에 저장\n",
        "print(gs.best_params_)"
      ],
      "metadata": {
        "colab": {
          "base_uri": "https://localhost:8080/"
        },
        "id": "klAfOJjGx_ji",
        "outputId": "cb41891f-75ec-419b-9ceb-3912031fc0b5"
      },
      "execution_count": 15,
      "outputs": [
        {
          "output_type": "stream",
          "name": "stdout",
          "text": [
            "{'min_impurity_decrease': 0.0001}\n"
          ]
        }
      ]
    },
    {
      "cell_type": "code",
      "source": [
        "# 각 매개변수에서 수행한 교차 검증의 평균 점수는 cv_results_ 속성의 'mean_test_score' 키에 저장\n",
        "print(gs.cv_results_['mean_test_score'])"
      ],
      "metadata": {
        "colab": {
          "base_uri": "https://localhost:8080/"
        },
        "id": "W10uENhqzESj",
        "outputId": "5d08cbea-0c32-4fdb-af94-34fa03538613"
      },
      "execution_count": 16,
      "outputs": [
        {
          "output_type": "stream",
          "name": "stdout",
          "text": [
            "[0.86819297 0.86453617 0.86492226 0.85414803 0.86761605]\n"
          ]
        }
      ]
    },
    {
      "cell_type": "markdown",
      "source": [
        "- `min_impurity_decrease`: 노드를 분할하기 위한 불순도 감소 최소량 지정\n",
        "- `max_depth`: 트리의 깊이 제한\n",
        "- `min_samples_split`: 노드를 나누기 위한 최소 샘플 수 지정\n"
      ],
      "metadata": {
        "id": "87Nc4gM-zTWo"
      }
    },
    {
      "cell_type": "code",
      "source": [
        "# min_impurity_decrease: 9개\n",
        "# max_depth: 15개\n",
        "# min_samples_split: 10개\n",
        "params = {\n",
        "    'min_impurity_decrease': np.arange(0.0001, 0.001, 0.0001),\n",
        "    'max_depth': range(5, 20, 1),\n",
        "    'min_samples_split': range(2, 100, 10)\n",
        "}"
      ],
      "metadata": {
        "id": "ApLLT8jvzNQN"
      },
      "execution_count": 17,
      "outputs": []
    },
    {
      "cell_type": "code",
      "source": [
        "# 매개변수로 수행할 교차 검증 횟수: 9 x 15 x 10 = 1350번\n",
        "# 기본적으로 5-폴드 교차 검증 수행: 1350 x 5 = 6770\n",
        "# n_jobs 매개변수 -1로 설정 후 그리드 서치 실행\n",
        "gs = GridSearchCV(DecisionTreeClassifier(random_state=42), params, n_jobs=-1)\n",
        "gs.fit(train_input, train_target)"
      ],
      "metadata": {
        "colab": {
          "base_uri": "https://localhost:8080/"
        },
        "id": "Df2L7eUmzudo",
        "outputId": "bf0bce40-10c1-4d8c-98ba-291e88911515"
      },
      "execution_count": 18,
      "outputs": [
        {
          "output_type": "execute_result",
          "data": {
            "text/plain": [
              "GridSearchCV(estimator=DecisionTreeClassifier(random_state=42), n_jobs=-1,\n",
              "             param_grid={'max_depth': range(5, 20),\n",
              "                         'min_impurity_decrease': array([0.0001, 0.0002, 0.0003, 0.0004, 0.0005, 0.0006, 0.0007, 0.0008,\n",
              "       0.0009]),\n",
              "                         'min_samples_split': range(2, 100, 10)})"
            ]
          },
          "metadata": {},
          "execution_count": 18
        }
      ]
    },
    {
      "cell_type": "code",
      "source": [
        "# 최상의 매개변수 조합 결과\n",
        "print(gs.best_params_)\n",
        "# 6770개 모델로 교차 검증 결과가 가장 좋은 결과를 내는 매개변수 값"
      ],
      "metadata": {
        "colab": {
          "base_uri": "https://localhost:8080/"
        },
        "id": "K-PC1mJK0gC_",
        "outputId": "d22820ed-db08-4ae7-982e-9d08a92aa5b4"
      },
      "execution_count": 19,
      "outputs": [
        {
          "output_type": "stream",
          "name": "stdout",
          "text": [
            "{'max_depth': 14, 'min_impurity_decrease': 0.0004, 'min_samples_split': 12}\n"
          ]
        }
      ]
    },
    {
      "cell_type": "code",
      "source": [
        "# 최상의 교차 검증 점수 확인\n",
        "print(np.max(gs.cv_results_['mean_test_score']))"
      ],
      "metadata": {
        "colab": {
          "base_uri": "https://localhost:8080/"
        },
        "id": "-oABjMKb0Rzw",
        "outputId": "4716b23f-4c2f-4111-b6e1-6dc794b09e1f"
      },
      "execution_count": 20,
      "outputs": [
        {
          "output_type": "stream",
          "name": "stdout",
          "text": [
            "0.8683865773302731\n"
          ]
        }
      ]
    },
    {
      "cell_type": "markdown",
      "source": [
        "# 랜덤 서치\n",
        "- GridSearch에서 매개변수의 간격을 0.0001 혹은 1로 미리 설정\n",
        "- 매개변수의 값이 수치일 때 범위나 간격을 미리 정하기 어려움\n",
        "- 이럴 때 랜덤 서치(Random Search) 사용\n",
        "- 매개변수 값 목록을 전달하는 것이 아니라 -> 매개변수를 샘플링할 수 있는 확률 분포 객체를 전달\n"
      ],
      "metadata": {
        "id": "zosOSc7A0ylJ"
      }
    },
    {
      "cell_type": "code",
      "source": [
        "# 싸이파이 에서 2개의 확률 분포 클래스 임포트\n",
        "# 파이썬의 핵심 과학 라이브러리 중 하나\n",
        "# 적분, 보간, 선형 대수, 확률 등을 포함한 수치 계산 전용 라이브러리\n",
        "# 사이킷런은 넘파이와 싸이파아ㅣ 기능을 많이 사용\n",
        "from scipy.stats import uniform, randint"
      ],
      "metadata": {
        "id": "6V4La-_l0qeE"
      },
      "execution_count": 21,
      "outputs": []
    },
    {
      "cell_type": "code",
      "source": [
        "# uniform. randint 클래스는 모두 주어진 범위에서 고르게 값을 뽑음 -> rbsemd qnsvhdptj toavmffldgksek\n",
        "# randint: 정수값을 뽑음\n",
        "# uniform: 실수값을 뽑음\n",
        "rgen = randint(0, 10) # 0 ~ 10으로 난수(정수)의 범위를 지정 \n",
        "rgen.rvs(20) # 난수 20개 추출"
      ],
      "metadata": {
        "colab": {
          "base_uri": "https://localhost:8080/"
        },
        "id": "HkYkOZ9F1ROg",
        "outputId": "cbc004e3-3e68-42f0-e1a3-97cfe4a0a019"
      },
      "execution_count": 23,
      "outputs": [
        {
          "output_type": "execute_result",
          "data": {
            "text/plain": [
              "array([7, 5, 3, 9, 3, 1, 5, 8, 7, 3, 5, 7, 5, 7, 9, 1, 2, 8, 9, 5])"
            ]
          },
          "metadata": {},
          "execution_count": 23
        }
      ]
    },
    {
      "cell_type": "code",
      "source": [
        "ugen = uniform(0, 1) # 0 ~ 1으로 난수(실수)의 범위를 지정\n",
        "ugen.rvs(20) # 난수 20개 추출"
      ],
      "metadata": {
        "colab": {
          "base_uri": "https://localhost:8080/"
        },
        "id": "g7fGKjxJ1oeU",
        "outputId": "1199a428-2bc1-40bc-be86-d33108add451"
      },
      "execution_count": 24,
      "outputs": [
        {
          "output_type": "execute_result",
          "data": {
            "text/plain": [
              "array([0.52649091, 0.08640886, 0.63366613, 0.51027587, 0.72151488,\n",
              "       0.36647411, 0.74650872, 0.39213643, 0.77789946, 0.92566881,\n",
              "       0.54760621, 0.71002111, 0.41490416, 0.75212662, 0.80027391,\n",
              "       0.35297312, 0.81359644, 0.72325469, 0.43685975, 0.80175162])"
            ]
          },
          "metadata": {},
          "execution_count": 24
        }
      ]
    },
    {
      "cell_type": "markdown",
      "source": [
        "- `min_samples_leaf` 매개변수 추가\n",
        "  - 리프 노드가 되기 위한 최소 샘플의 개수\n",
        "  - 어떤 노드가 분할하여 마들어진 자식 노드의 샘플 수가 이 값보다 작을 경우 분할하지 않음"
      ],
      "metadata": {
        "id": "HPF0JlUDBthG"
      }
    },
    {
      "cell_type": "code",
      "source": [
        "params = {\n",
        "    'min_impurity_decrease': uniform(0.0001, 0.001),\n",
        "    'max_depth': randint(20, 50),\n",
        "    'min_samples_split': randint(2, 25),\n",
        "    'min_samples_leaf': randint(1, 25)\n",
        "}"
      ],
      "metadata": {
        "id": "QFw8qbuzABKl"
      },
      "execution_count": 25,
      "outputs": []
    },
    {
      "cell_type": "markdown",
      "source": [
        "- `n_iter` 매개변수: 샘플링 횟수\n",
        "- params에 정의된 매개변수 범위에서 총 100번 샘플링하여 교차 검증\n",
        "- 그리드 서치보다 교차 검증 수를 줄이지만, 넓은 영역을 효과적으로 탐색"
      ],
      "metadata": {
        "id": "Y69LaHbxB4pm"
      }
    },
    {
      "cell_type": "code",
      "source": [
        "from sklearn.model_selection import RandomizedSearchCV\n",
        "\n",
        "gs = RandomizedSearchCV(DecisionTreeClassifier(random_state=42,), params,\n",
        "                        n_iter=100, n_jobs=-1, random_state=42)\n",
        "gs.fit(train_input, train_target)"
      ],
      "metadata": {
        "colab": {
          "base_uri": "https://localhost:8080/"
        },
        "id": "y_0BXQIQB3cC",
        "outputId": "4acba208-67a0-4cec-ff01-1d5a7de8afad"
      },
      "execution_count": 26,
      "outputs": [
        {
          "output_type": "execute_result",
          "data": {
            "text/plain": [
              "RandomizedSearchCV(estimator=DecisionTreeClassifier(random_state=42),\n",
              "                   n_iter=100, n_jobs=-1,\n",
              "                   param_distributions={'max_depth': <scipy.stats._distn_infrastructure.rv_frozen object at 0x7f6a4e5b4550>,\n",
              "                                        'min_impurity_decrease': <scipy.stats._distn_infrastructure.rv_frozen object at 0x7f6a4e55c810>,\n",
              "                                        'min_samples_leaf': <scipy.stats._distn_infrastructure.rv_frozen object at 0x7f6a4e7a0f90>,\n",
              "                                        'min_samples_split': <scipy.stats._distn_infrastructure.rv_frozen object at 0x7f6a4e5b4110>},\n",
              "                   random_state=42)"
            ]
          },
          "metadata": {},
          "execution_count": 26
        }
      ]
    },
    {
      "cell_type": "code",
      "source": [
        "# 최적의 매개변수 조합\n",
        "print(gs.best_params_)"
      ],
      "metadata": {
        "colab": {
          "base_uri": "https://localhost:8080/"
        },
        "id": "ahyxeFWDCgqE",
        "outputId": "0ba2ed32-0af3-4e0b-eeb8-b310c3e2dd06"
      },
      "execution_count": 27,
      "outputs": [
        {
          "output_type": "stream",
          "name": "stdout",
          "text": [
            "{'max_depth': 39, 'min_impurity_decrease': 0.00034102546602601173, 'min_samples_leaf': 7, 'min_samples_split': 13}\n"
          ]
        }
      ]
    },
    {
      "cell_type": "code",
      "source": [
        "# 최고의 교차 검증 점수\n",
        "print(np.max(gs.cv_results_['mean_test_score']))"
      ],
      "metadata": {
        "colab": {
          "base_uri": "https://localhost:8080/"
        },
        "id": "l1WuQKbeCmT9",
        "outputId": "d0455e83-d223-4226-b7f1-6009a7f96dff"
      },
      "execution_count": 28,
      "outputs": [
        {
          "output_type": "stream",
          "name": "stdout",
          "text": [
            "0.8695428296438884\n"
          ]
        }
      ]
    },
    {
      "cell_type": "code",
      "source": [
        "# 최적의 모델은 best_estimator_ 속성에 저장\n",
        "# 이를 최종 모델로 결정하고 테스트 세트의 성능 확인\n",
        "dt = gs.best_estimator_\n",
        "print(dt.score(test_input, test_target))"
      ],
      "metadata": {
        "colab": {
          "base_uri": "https://localhost:8080/"
        },
        "id": "YR4DMI6ICtBd",
        "outputId": "eb865e7e-2734-40e9-d5d3-930960583529"
      },
      "execution_count": 29,
      "outputs": [
        {
          "output_type": "stream",
          "name": "stdout",
          "text": [
            "0.86\n"
          ]
        }
      ]
    },
    {
      "cell_type": "code",
      "source": [
        ""
      ],
      "metadata": {
        "id": "R_Oi6mITC1Yi"
      },
      "execution_count": null,
      "outputs": []
    }
  ]
}