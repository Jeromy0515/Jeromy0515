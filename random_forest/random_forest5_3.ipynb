{
  "nbformat": 4,
  "nbformat_minor": 0,
  "metadata": {
    "colab": {
      "name": "random_forest5_3.ipynb",
      "provenance": [],
      "collapsed_sections": [],
      "authorship_tag": "ABX9TyNqqv4AtLf3mserI2oPJA9s",
      "include_colab_link": true
    },
    "kernelspec": {
      "name": "python3",
      "display_name": "Python 3"
    },
    "language_info": {
      "name": "python"
    }
  },
  "cells": [
    {
      "cell_type": "markdown",
      "metadata": {
        "id": "view-in-github",
        "colab_type": "text"
      },
      "source": [
        "<a href=\"https://colab.research.google.com/github/Jeromy0515/Jeromy0515/blob/main/random_forest/random_forest5_3.ipynb\" target=\"_parent\"><img src=\"https://colab.research.google.com/assets/colab-badge.svg\" alt=\"Open In Colab\"/></a>"
      ]
    },
    {
      "cell_type": "markdown",
      "source": [
        "# 시작하기 전에\n",
        "1. 지금까지 공부: k-최근접 이웃, 선형 회귀, 릿지, 라쏘, 다향 회귀, 로지스틱 회귀, 확률적 경사 하강법, 분류기, 결정트리 모델, 교차 검증, 하이퍼파라미터 튜닝\n",
        "2. 베스트 머신러닝 알고리즘은 무엇? 결정 트리를 확장하여 머신러닝 계를 제패한 알고리즘은?\n",
        "3. 결정 트리? 나무 말고 숲을 봐라!\n",
        "4. 머신러닝, 나무, 숲 -> 랜덤 포레스트(Random Forest)\n",
        "5. 보편적으로 성능이 좋아 널리 사용되는 알고리즘이 있지만, 문제마다 다를 수 있음 -> 어떤 알고리즘이 더 뛰어나다고 미리 판단하지 말고, 다 테스트해볼 필요가 있음!\n"
      ],
      "metadata": {
        "id": "re4ze5GcFEjl"
      }
    },
    {
      "cell_type": "markdown",
      "source": [
        "# 정형 데이터\n",
        "- 생선의 길이, 높이, 무게, 대각선 / 와인 데이터 등을 데이터로 사용\n",
        "- csv 파일에 가지런히 정리되어 있었음\n",
        "- 행/열이 명확\n",
        "- structured data\n",
        "- csv, DB, Excel 등에 저장하기 용이"
      ],
      "metadata": {
        "id": "CWgtoo61FEVW"
      }
    },
    {
      "cell_type": "markdown",
      "source": [
        "# 비정형 데이터\n",
        "- 데이터베이스나 엑셀처럼 행/열로 표현하기 어려운 데이터\n",
        "- 글과 같은 텍스트 데이터, 디카로 찍은 사진, 디지털 음악 등\n",
        "- NoSQL은 엑셀이나 csv에 담기 어려운 텍스트, 이미지, 음악 or JSON 데이터 저장"
      ],
      "metadata": {
        "id": "6O70S3FjFEOn"
      }
    },
    {
      "cell_type": "markdown",
      "source": [
        "# 정형 / 비정형 데이터\n",
        "- 지금까지 배운 머신러닝 알고리즘은 정형 데이터에 잘 맞음\n",
        "- 그 중에서도 가장 뛰어난 성과를 내는 알고리즘\n",
        "  - 앙상블 학습(ensemble learning)\n",
        "  - 앙상블 학습은 대부분 결정 트리를 기반\n",
        "\n",
        "- 비정형 데이터: 신경망 알고리즘에 사용(딥러닝)\n",
        "  - 머신러닝 방법으로는 모델을 만들기 까다로움\n",
        "  - 사진을 인식하고 텍스트를 이해하는 등이 가능"
      ],
      "metadata": {
        "id": "moF2FN_vF5GV"
      }
    },
    {
      "cell_type": "markdown",
      "source": [
        "# 랜덤 포레스트 (Random Forest)\n",
        "- 앙상블 학습의 대표 주자 중 하나\n",
        "- 안정적인 성능 덕에 널리 사용 (가장 먼저 시도 권유)\n",
        "- 선생님이 주로 사용하는 알고리즘 중 대표\n",
        "- 결정 트리를 랜덤하게 만들어 결정 트리(나무)의 숲을 생성\n",
        "- 각 결정 트리의 예측을 사용해 최족 예측 결정\n",
        "- 각 노드 분할시 / 전체 특성 중 일부 특성을 무작위로 고른 다음 이 중에서 최선의 분할을 찾음\n",
        "- 예를 들어 4개의 특성이 있따면 노드마다 2개를 랜덤하게 선택\n",
        "- default 100개 트리 사용(보통 120~200)\n",
        "- 각 트리의 클래스별 확률 평균해서 가장 높은 확률 클래스로 결정\n",
        "- 랜덤하게 샘플과 특성을 사용 -> 과대적합 막아주고 + 검증/테스트 세트에서 안정적 성능\n",
        "- 기본 매개변수 설정만으로도 어느 정도 좋은 결과!\n"
      ],
      "metadata": {
        "id": "6gHtrHm1Gf6l"
      }
    },
    {
      "cell_type": "markdown",
      "source": [
        "# 부트스트랩 샘플(bootstrap sample)\n",
        "- 부트스트랩 방식: 데이터 세트에서 중복을 허용하여 데이터를 샘플링하는 방식\n",
        "- 각 트리를 훈련하기 위한 데이터를 랜덤하게 샘플 추출 -> 중복 가능!\n",
        "  - 예) 1000개의 가방에서 1000개씩 샘플을 뽑을 때, 1개 뽑고, 뽑았던 1개를 다시 가방에 넣음 -> 중복된 샘플 뽑을 수 있음\n",
        "- 이렇게 만든 샘플: 부트스트랩 샘플(bootstrap sample)\n",
        "- 훈련 세트 크기와 같음: 1000개 가방에서 중복하여 1000개 샘플\n"
      ],
      "metadata": {
        "id": "WbVPRb7ZyMcP"
      }
    },
    {
      "cell_type": "code",
      "source": [
        "from google.colab import drive\n",
        "drive.mount('/content/drive')"
      ],
      "metadata": {
        "colab": {
          "base_uri": "https://localhost:8080/"
        },
        "id": "TxO2EMehzEu3",
        "outputId": "eb855830-82b4-431e-bef9-33dbc880f9b7"
      },
      "execution_count": 2,
      "outputs": [
        {
          "output_type": "stream",
          "name": "stdout",
          "text": [
            "Mounted at /content/drive\n"
          ]
        }
      ]
    },
    {
      "cell_type": "code",
      "execution_count": 3,
      "metadata": {
        "id": "yODsuMLHESQv",
        "colab": {
          "base_uri": "https://localhost:8080/",
          "height": 204
        },
        "outputId": "b8c264a7-dc3c-4742-d6ea-29dd8cdc9ebf"
      },
      "outputs": [
        {
          "output_type": "execute_result",
          "data": {
            "text/plain": [
              "   alcohol  sugar    pH  class\n",
              "0      9.4    1.9  3.51    0.0\n",
              "1      9.8    2.6  3.20    0.0\n",
              "2      9.8    2.3  3.26    0.0\n",
              "3      9.8    1.9  3.16    0.0\n",
              "4      9.4    1.9  3.51    0.0"
            ],
            "text/html": [
              "\n",
              "  <div id=\"df-1daa9c90-7b6d-4ac2-a9b2-29fd2bfceda9\">\n",
              "    <div class=\"colab-df-container\">\n",
              "      <div>\n",
              "<style scoped>\n",
              "    .dataframe tbody tr th:only-of-type {\n",
              "        vertical-align: middle;\n",
              "    }\n",
              "\n",
              "    .dataframe tbody tr th {\n",
              "        vertical-align: top;\n",
              "    }\n",
              "\n",
              "    .dataframe thead th {\n",
              "        text-align: right;\n",
              "    }\n",
              "</style>\n",
              "<table border=\"1\" class=\"dataframe\">\n",
              "  <thead>\n",
              "    <tr style=\"text-align: right;\">\n",
              "      <th></th>\n",
              "      <th>alcohol</th>\n",
              "      <th>sugar</th>\n",
              "      <th>pH</th>\n",
              "      <th>class</th>\n",
              "    </tr>\n",
              "  </thead>\n",
              "  <tbody>\n",
              "    <tr>\n",
              "      <th>0</th>\n",
              "      <td>9.4</td>\n",
              "      <td>1.9</td>\n",
              "      <td>3.51</td>\n",
              "      <td>0.0</td>\n",
              "    </tr>\n",
              "    <tr>\n",
              "      <th>1</th>\n",
              "      <td>9.8</td>\n",
              "      <td>2.6</td>\n",
              "      <td>3.20</td>\n",
              "      <td>0.0</td>\n",
              "    </tr>\n",
              "    <tr>\n",
              "      <th>2</th>\n",
              "      <td>9.8</td>\n",
              "      <td>2.3</td>\n",
              "      <td>3.26</td>\n",
              "      <td>0.0</td>\n",
              "    </tr>\n",
              "    <tr>\n",
              "      <th>3</th>\n",
              "      <td>9.8</td>\n",
              "      <td>1.9</td>\n",
              "      <td>3.16</td>\n",
              "      <td>0.0</td>\n",
              "    </tr>\n",
              "    <tr>\n",
              "      <th>4</th>\n",
              "      <td>9.4</td>\n",
              "      <td>1.9</td>\n",
              "      <td>3.51</td>\n",
              "      <td>0.0</td>\n",
              "    </tr>\n",
              "  </tbody>\n",
              "</table>\n",
              "</div>\n",
              "      <button class=\"colab-df-convert\" onclick=\"convertToInteractive('df-1daa9c90-7b6d-4ac2-a9b2-29fd2bfceda9')\"\n",
              "              title=\"Convert this dataframe to an interactive table.\"\n",
              "              style=\"display:none;\">\n",
              "        \n",
              "  <svg xmlns=\"http://www.w3.org/2000/svg\" height=\"24px\"viewBox=\"0 0 24 24\"\n",
              "       width=\"24px\">\n",
              "    <path d=\"M0 0h24v24H0V0z\" fill=\"none\"/>\n",
              "    <path d=\"M18.56 5.44l.94 2.06.94-2.06 2.06-.94-2.06-.94-.94-2.06-.94 2.06-2.06.94zm-11 1L8.5 8.5l.94-2.06 2.06-.94-2.06-.94L8.5 2.5l-.94 2.06-2.06.94zm10 10l.94 2.06.94-2.06 2.06-.94-2.06-.94-.94-2.06-.94 2.06-2.06.94z\"/><path d=\"M17.41 7.96l-1.37-1.37c-.4-.4-.92-.59-1.43-.59-.52 0-1.04.2-1.43.59L10.3 9.45l-7.72 7.72c-.78.78-.78 2.05 0 2.83L4 21.41c.39.39.9.59 1.41.59.51 0 1.02-.2 1.41-.59l7.78-7.78 2.81-2.81c.8-.78.8-2.07 0-2.86zM5.41 20L4 18.59l7.72-7.72 1.47 1.35L5.41 20z\"/>\n",
              "  </svg>\n",
              "      </button>\n",
              "      \n",
              "  <style>\n",
              "    .colab-df-container {\n",
              "      display:flex;\n",
              "      flex-wrap:wrap;\n",
              "      gap: 12px;\n",
              "    }\n",
              "\n",
              "    .colab-df-convert {\n",
              "      background-color: #E8F0FE;\n",
              "      border: none;\n",
              "      border-radius: 50%;\n",
              "      cursor: pointer;\n",
              "      display: none;\n",
              "      fill: #1967D2;\n",
              "      height: 32px;\n",
              "      padding: 0 0 0 0;\n",
              "      width: 32px;\n",
              "    }\n",
              "\n",
              "    .colab-df-convert:hover {\n",
              "      background-color: #E2EBFA;\n",
              "      box-shadow: 0px 1px 2px rgba(60, 64, 67, 0.3), 0px 1px 3px 1px rgba(60, 64, 67, 0.15);\n",
              "      fill: #174EA6;\n",
              "    }\n",
              "\n",
              "    [theme=dark] .colab-df-convert {\n",
              "      background-color: #3B4455;\n",
              "      fill: #D2E3FC;\n",
              "    }\n",
              "\n",
              "    [theme=dark] .colab-df-convert:hover {\n",
              "      background-color: #434B5C;\n",
              "      box-shadow: 0px 1px 3px 1px rgba(0, 0, 0, 0.15);\n",
              "      filter: drop-shadow(0px 1px 2px rgba(0, 0, 0, 0.3));\n",
              "      fill: #FFFFFF;\n",
              "    }\n",
              "  </style>\n",
              "\n",
              "      <script>\n",
              "        const buttonEl =\n",
              "          document.querySelector('#df-1daa9c90-7b6d-4ac2-a9b2-29fd2bfceda9 button.colab-df-convert');\n",
              "        buttonEl.style.display =\n",
              "          google.colab.kernel.accessAllowed ? 'block' : 'none';\n",
              "\n",
              "        async function convertToInteractive(key) {\n",
              "          const element = document.querySelector('#df-1daa9c90-7b6d-4ac2-a9b2-29fd2bfceda9');\n",
              "          const dataTable =\n",
              "            await google.colab.kernel.invokeFunction('convertToInteractive',\n",
              "                                                     [key], {});\n",
              "          if (!dataTable) return;\n",
              "\n",
              "          const docLinkHtml = 'Like what you see? Visit the ' +\n",
              "            '<a target=\"_blank\" href=https://colab.research.google.com/notebooks/data_table.ipynb>data table notebook</a>'\n",
              "            + ' to learn more about interactive tables.';\n",
              "          element.innerHTML = '';\n",
              "          dataTable['output_type'] = 'display_data';\n",
              "          await google.colab.output.renderOutput(dataTable, element);\n",
              "          const docLink = document.createElement('div');\n",
              "          docLink.innerHTML = docLinkHtml;\n",
              "          element.appendChild(docLink);\n",
              "        }\n",
              "      </script>\n",
              "    </div>\n",
              "  </div>\n",
              "  "
            ]
          },
          "metadata": {},
          "execution_count": 3
        }
      ],
      "source": [
        "# 데이터 로드\n",
        "import pandas as pd\n",
        "wine = pd.read_csv('/content/drive/MyDrive/Data/wine.csv')\n",
        "wine.head()"
      ]
    },
    {
      "cell_type": "code",
      "source": [
        "# 훈련/테스트셋 분류\n",
        "import numpy as np\n",
        "import pandas as pd\n",
        "from sklearn.model_selection import train_test_split\n",
        "\n",
        "data = wine[['alcohol', 'sugar', 'pH']].to_numpy()\n",
        "target = wine['class'].to_numpy()\n",
        "train_input, test_input, train_target, test_target  = train_test_split(data, target, test_size=0.2, random_state=42)"
      ],
      "metadata": {
        "id": "l1DAkkk3zFtj"
      },
      "execution_count": 4,
      "outputs": []
    },
    {
      "cell_type": "code",
      "source": [
        "# 교차 검증 수행 cross_validate()\n",
        "from sklearn.model_selection import cross_validate\n",
        "from sklearn.ensemble import RandomForestClassifier\n",
        "\n",
        "rf = RandomForestClassifier(n_jobs = -1, random_state = 42)\n",
        "\n",
        "# return_train_score: 검증 점수 뿐만 아니라 훈련 세트 점수도 같이 반환\n",
        "# scores = corss_valideate(rf, train_input, train_target, n_jobs = -1)\n",
        "# print(np.mean(scores['test_score']))\n",
        "# print(np.mean(scores['train_score'])) # 에러\n",
        "scores = cross_validate(rf, train_input, train_target, return_train_score=True, n_jobs = -1)\n",
        "print(np.mean(scores['train_score']), np.mean(scores['test_score']))"
      ],
      "metadata": {
        "colab": {
          "base_uri": "https://localhost:8080/"
        },
        "id": "gmiPhGuszyPw",
        "outputId": "9a31f06e-b338-4020-9198-9bebb805d5d9"
      },
      "execution_count": 5,
      "outputs": [
        {
          "output_type": "stream",
          "name": "stdout",
          "text": [
            "0.9973541965122431 0.8905151032797809\n"
          ]
        }
      ]
    },
    {
      "cell_type": "markdown",
      "source": [
        "# 특성 중요도\n",
        "- 매개변수: 결정 트리의 앙상블이므로 모두 제공\n",
        "  - `criterion, max_depth, max_features, mi_samples_split, min_impurity_decrease, min_samples,leaf` 등\n",
        "- 중요도는 노드들의 지니불순도(Gini impurity)를 가지고 계산하는데 노드가 중요할 수록 불순도가 크게 감소한다는 사실을 이용한다.\n",
        "- 노드는 한 특성의 값을 기준으로 분리가 되기 때문에 불순도를 크게 감소하는데 많이 사용된 특성이 중요도가 올라갈 것이다.\n",
        "- 종속변수에 미치는 독립변수의 영향력을 알아보기 위해 feature importance를 확인해보는 방법도 있다."
      ],
      "metadata": {
        "id": "-_MHz22B25fG"
      }
    },
    {
      "cell_type": "code",
      "source": [
        "# 그냥 Decision Tree: [0.12345626 0.86862934 0.0079144]\n",
        "# 알코올 도수, 당도, pH값 순서\n",
        "rf.fit(train_input, train_target)\n",
        "print(rf.feature_importances_)\n",
        "# 당도 중요도 감소\n",
        "# 알코올 도수와 pH 특성 중요도 상승\n",
        "# 랜덤 포레스트가 특성의 일부를 랜덤하게 선택\n",
        "# 과대적합을 줄이고 일반화 성능을 높임!"
      ],
      "metadata": {
        "colab": {
          "base_uri": "https://localhost:8080/"
        },
        "id": "z2ttYnpq2Lk5",
        "outputId": "343467f7-083c-4ed2-e12d-451c8ced32a2"
      },
      "execution_count": 6,
      "outputs": [
        {
          "output_type": "stream",
          "name": "stdout",
          "text": [
            "[0.23167441 0.50039841 0.26792718]\n"
          ]
        }
      ]
    },
    {
      "cell_type": "markdown",
      "source": [
        "# OOB(Out Of Bag) 샘플\n",
        "- 중복 허용 -> 부트스트랩 샘플에 포함되지 않고 남는 샘플 -> 검증 세트 역할\n",
        "- 부트스트랩 샘플로 훈련한 결정 트리 평가\n",
        "- `oob_score` 매개변수를 True로 지정: 각 결정 트리의 OOB 점수를 평균하여 출력\n",
        "- OOB 점수를 활용하면 교차 검증을 대신 -> 훈련 세트에 더 많은 샘플 사용\n"
      ],
      "metadata": {
        "id": "g4jEuWV030Nw"
      }
    },
    {
      "cell_type": "code",
      "source": [
        "# n_estimators 매개변수로 트리개수 3000개로 지정 \n",
        "rf = RandomForestClassifier(oob_score=True, n_jobs = -1, n_estimators=3000, random_state=42)\n",
        "rf.fit(train_input, train_target)\n",
        "print(rf.oob_score_)"
      ],
      "metadata": {
        "colab": {
          "base_uri": "https://localhost:8080/"
        },
        "id": "-hu0eun_3jnv",
        "outputId": "c4c1a57e-3080-46d2-f46e-50312e301d73"
      },
      "execution_count": 7,
      "outputs": [
        {
          "output_type": "stream",
          "name": "stdout",
          "text": [
            "0.8966711564364056\n"
          ]
        }
      ]
    },
    {
      "cell_type": "markdown",
      "source": [
        "# 엑스트라 트리(Extra Trees)\n",
        "- 랜덤 포레스틔와 매우 비슷하게 동작\n",
        "  - 기본적으로 100개의 결정 트리 훈련\n",
        "  - 전체 특성 중 일부 특성을 랜덤하게 선택하여 노드를 분할하는 데 사용\n",
        "- 가장 큰 차이점은 부트스트랩 샘플을 사용하지 않음!\n",
        "- 노드를 분할할 때 가장 좋은 분할이 아니라 무작위로 분할\n",
        "  - 성능이 낮아지지만 많은 트리를 앙상블\n",
        "  - 과대적합을 막고 검증 세트 점수를 높일 수 있음\n",
        "- 엑스트라 트리가 무작위성이 좀 더 크기 때문에\n",
        "- 랜덤하게 노드를 분할하기 때문에 계산 속도가 빠름"
      ],
      "metadata": {
        "id": "B87x-81O7nYI"
      }
    },
    {
      "cell_type": "code",
      "source": [
        "from sklearn.ensemble import ExtraTreesClassifier\n",
        "\n",
        "et = ExtraTreesClassifier(n_jobs = -1, random_state = 42)\n",
        "scores = cross_validate(et, train_input, train_target, return_train_score = True, n_jobs = -1)\n",
        "\n",
        "print(np.mean(scores['train_score']), np.mean(scores['test_score']))"
      ],
      "metadata": {
        "id": "UfpE2oyZ22Rc",
        "colab": {
          "base_uri": "https://localhost:8080/"
        },
        "outputId": "458495c2-f40d-4c9c-9dc2-9c937e65a079"
      },
      "execution_count": 10,
      "outputs": [
        {
          "output_type": "stream",
          "name": "stdout",
          "text": [
            "0.9974503966084433 0.8887848893166506\n"
          ]
        }
      ]
    },
    {
      "cell_type": "code",
      "source": [
        "et.fit(train_input, train_target)\n",
        "print(et.feature_importances_)"
      ],
      "metadata": {
        "colab": {
          "base_uri": "https://localhost:8080/"
        },
        "id": "g3P1PO6SY2XY",
        "outputId": "ca77bf01-dd9e-4ed6-e4bc-34e350364907"
      },
      "execution_count": 11,
      "outputs": [
        {
          "output_type": "stream",
          "name": "stdout",
          "text": [
            "[0.20183568 0.52242907 0.27573525]\n"
          ]
        }
      ]
    },
    {
      "cell_type": "markdown",
      "source": [
        "# 그레이디언트 부스팅(Gradient boosting)\n",
        "- 깊이가 얕은 결정 트리를 사용하여 이전 트리의 오차를 보완하는 방식으로 앙상블\n",
        "- 기본적으로 깊이가 3인 결정 트리를 100개 사용\n",
        "- 깊이가 얕은 결정 트리를 사용: 과대적합에 강하고 높은 일반화 성능 기대\n",
        "- 경사 하강법을 사용하여 트리를 앙상블에 추가\n",
        "- 분류: 로지스틱 손실 함수 사용\n",
        "- 회귀: 평균 제곱 오차 함수 사용\n"
      ],
      "metadata": {
        "id": "ZohMZpqSZ-jt"
      }
    },
    {
      "cell_type": "code",
      "source": [
        "from sklearn.ensemble import GradientBoostingClassifier\n",
        "\n",
        "gb = GradientBoostingClassifier(random_state = 42)\n",
        "scores = cross_validate(gb, train_input, train_target, return_train_score=True, n_jobs = -1)\n",
        "print(np.mean(scores['train_score']), np.mean(scores['test_score'])) "
      ],
      "metadata": {
        "colab": {
          "base_uri": "https://localhost:8080/"
        },
        "id": "KRjnTUJOZtAT",
        "outputId": "ff34eea8-e2ed-4b3c-9ef1-fac8e11f5b2e"
      },
      "execution_count": 14,
      "outputs": [
        {
          "output_type": "stream",
          "name": "stdout",
          "text": [
            "0.8881086892152563 0.8720430147331015\n"
          ]
        }
      ]
    },
    {
      "cell_type": "code",
      "source": [
        "# 특성 중요도 확인 결과, GB가 RF보다 당도에 더 집중\n",
        "gb.fit(train_input, train_target)\n",
        "print(gb.feature_importances_)\n",
        "# 일반적으로 GB가 RF보다 조금 더 높은 성능을 얻을 수 있음\n",
        "# 순서대로 트리를 추가하기 떄문에 훈련 속도가 느림\n",
        "# n_jobs 매개변수가 없음\n"
      ],
      "metadata": {
        "colab": {
          "base_uri": "https://localhost:8080/"
        },
        "id": "KwljMh5gcga7",
        "outputId": "649eb227-e247-4e00-e3cb-764a469ca243"
      },
      "execution_count": 15,
      "outputs": [
        {
          "output_type": "stream",
          "name": "stdout",
          "text": [
            "[0.11949946 0.74871836 0.13178218]\n"
          ]
        }
      ]
    },
    {
      "cell_type": "markdown",
      "source": [
        "# 히스토그램 기반 그레이디언트 부스팅 (Histogram-based Gradient Boosting)\n",
        "- 정형 데이터를 다루는 머신러닝 알고리즘 중 가장 인기가 높음\n",
        "- 먼저 입력 특성을 256개의 구간으로 나눔\n",
        "- 노드를 분할할 때 최적의 분할을 매우 빠르게 찾음\n",
        "- 256개의 구간 중에서 하나를 떼어 놓고 누락된 값을 위해 사용 -> 입력에 누락된 특성이 있더라도 이를 전처리할 필요가 없음\n",
        "\n"
      ],
      "metadata": {
        "id": "jzxODlCqds-0"
      }
    },
    {
      "cell_type": "markdown",
      "source": [
        "- HistGradientBoostingClassifier 클래스 적용\n",
        "- 기본 매개변수만 사용해도 안정적인 성능을 얻을 수 있음\n",
        "- `max_iter` 매개변쉬: 트리 개수 지정(n_estimators 아님)"
      ],
      "metadata": {
        "id": "VaCdJjAZeRHs"
      }
    },
    {
      "cell_type": "code",
      "source": [
        "from sklearn.ensemble import HistGradientBoostingClassifier\n",
        "\n",
        "hgb = HistGradientBoostingClassifier(random_state = 42)\n",
        "scores = cross_validate(hgb, train_input, train_target, return_train_score=True, n_jobs = 1)\n",
        "\n",
        "print(np.mean(scores['train_score']), np.mean(scores['test_score']))"
      ],
      "metadata": {
        "colab": {
          "base_uri": "https://localhost:8080/"
        },
        "id": "dGkm6S5RdemD",
        "outputId": "9f2bedd7-e714-4ed2-df29-34a890424860"
      },
      "execution_count": 16,
      "outputs": [
        {
          "output_type": "stream",
          "name": "stdout",
          "text": [
            "0.9321723946453317 0.8801241948619236\n"
          ]
        }
      ]
    },
    {
      "cell_type": "code",
      "source": [
        "hgb.fit(train_input, train_target)\n",
        "hgb.score(test_input, test_target)"
      ],
      "metadata": {
        "colab": {
          "base_uri": "https://localhost:8080/"
        },
        "id": "5n6HCvSKejHs",
        "outputId": "1111ef2f-163a-456a-85a4-7860f2ebf923"
      },
      "execution_count": 17,
      "outputs": [
        {
          "output_type": "execute_result",
          "data": {
            "text/plain": [
              "0.8723076923076923"
            ]
          },
          "metadata": {},
          "execution_count": 17
        }
      ]
    },
    {
      "cell_type": "markdown",
      "source": [
        "# XGBoost\n",
        "- 사이킷런 외에도 유명한 2가지 GB 라이브러리가 이미 코랩에 설치되어있음\n",
        "- 뛰어난 예측 성능 / GBM 대비 빠른 수행 시간\n",
        "- 과적합 규제 / 나무 가지치기\n",
        "- 자체 내장된 교차 검증 / 결손값 자체 처리"
      ],
      "metadata": {
        "id": "0g2_cshRe_z8"
      }
    },
    {
      "cell_type": "code",
      "source": [
        "from xgboost import XGBClassifier\n",
        "xgb = XGBClassifier(tree_method = 'hist', random_state = 42)\n",
        "scores = cross_validate(xgb, train_input, train_target, return_train_score = True)\n",
        "print(np.mean(scores['train_score']), np.mean(scores['test_score']))"
      ],
      "metadata": {
        "colab": {
          "base_uri": "https://localhost:8080/"
        },
        "id": "-j-uV057fQ9D",
        "outputId": "4c397da5-9572-4068-c9e9-40655b9cc778"
      },
      "execution_count": 18,
      "outputs": [
        {
          "output_type": "stream",
          "name": "stdout",
          "text": [
            "0.8824322471423747 0.8726214185237284\n"
          ]
        }
      ]
    },
    {
      "cell_type": "markdown",
      "source": [
        "# LightGBM\n",
        "- XGBoost와 함께 부스팅 계열 알고리즘에서 가장 각광받음\n",
        "- XGBoost보다 학습에 걸리는 시간이 훨씬 적음\n",
        "- 메모리 사용량도 상대적으로 적음(Light)\n",
        "- 예측 성능은 별다른 차이 없음\n",
        "- XGBoost보다 2년 후에 만들어짐: 장점은 계승 + 단점 보완"
      ],
      "metadata": {
        "id": "9jcwoVJTfOUk"
      }
    },
    {
      "cell_type": "code",
      "source": [
        "from lightgbm import LGBMClassifier\n",
        "lgb = LGBMClassifier(random_state = 42)\n",
        "scores = cross_validate(lgb, train_input, train_target, return_train_score = True)\n",
        "print(np.mean(scores['train_score']), np.mean(scores['test_score']))"
      ],
      "metadata": {
        "colab": {
          "base_uri": "https://localhost:8080/"
        },
        "id": "yPSpnfEPezim",
        "outputId": "4b15f9a9-6f7c-456f-e4af-337f84f65135"
      },
      "execution_count": 21,
      "outputs": [
        {
          "output_type": "stream",
          "name": "stdout",
          "text": [
            "0.9338079582727165 0.8789710890649293\n"
          ]
        }
      ]
    }
  ]
}